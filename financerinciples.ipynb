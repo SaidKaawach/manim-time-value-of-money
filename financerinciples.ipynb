{
 "cells": [
  {
   "cell_type": "code",
   "execution_count": 1,
   "id": "d8762486-0d44-4a0d-8d40-97f168f36a9b",
   "metadata": {},
   "outputs": [],
   "source": [
    "import os\n",
    "import sys\n",
    "\n",
    "# Add path to FFmpeg, GTK, or LaTeX if needed\n",
    "os.environ['PATH'] += os.pathsep + r'C:\\Users\\Said&Nour\\Downloads\\ffmpeg-2025-06-26-git-09cd38e9d5-full_build\\bin'\n",
    "os.environ['PATH'] += os.pathsep + r'C:\\Users\\Said&Nour\\MiKTeX\\miktex\\bin\\x64'"
   ]
  },
  {
   "cell_type": "code",
   "execution_count": 2,
   "id": "d1e8d199-4caf-4d37-be63-74466423f5bc",
   "metadata": {},
   "outputs": [],
   "source": [
    "from manim import *"
   ]
  },
  {
   "cell_type": "code",
   "execution_count": 3,
   "id": "f53ea153-f929-4171-86cc-345e71ffcd18",
   "metadata": {},
   "outputs": [],
   "source": [
    "def Body():\n",
    "    body = VGroup(\n",
    "        Tex(\"If you invest\").set_color(BLACK),\n",
    "        MathTex(r\"\\pounds 5\").set_color(BLUE),\n",
    "        Tex(\"today at an annual interest rate of\").set_color(BLACK),\n",
    "        MathTex(r\"25\\%\").set_color(BLUE),\n",
    "        Tex(\", how much will it be worth in\").set_color(BLACK),\n",
    "        Tex(\"1 year?\").set_color(BLUE),\n",
    "    ).arrange(RIGHT, buff=0.3).scale(2.5).shift(UP * 7)\n",
    "    return body"
   ]
  },
  {
   "cell_type": "code",
   "execution_count": 4,
   "id": "30c9024f-5cdb-4d76-9248-8d672243cfb8",
   "metadata": {},
   "outputs": [],
   "source": [
    "# --- Realistic £5 banknote object ---\n",
    "def BankNote():\n",
    "    w, h = 4.0, 1.8\n",
    "    note_bg = RoundedRectangle(\n",
    "        width=w, height=h, corner_radius=0.2,\n",
    "        stroke_color=BLACK, stroke_width=5,\n",
    "        fill_color=\"#B7D7E8\", fill_opacity=1\n",
    "    )\n",
    "    stripes = VGroup(*[\n",
    "        Rectangle(width=0.2, height=h * 0.9, fill_color=\"#85C1E9\", fill_opacity=1, stroke_width=0)\n",
    "        .move_to(note_bg.get_left() + RIGHT * (i * 0.6 + 0.4))\n",
    "        for i in range(5)\n",
    "    ])\n",
    "    watermark = Circle(radius=0.4, color=WHITE, stroke_width=2).set_opacity(0.3).move_to(note_bg.get_center())\n",
    "    denom = Text(\"£5\", weight=\"BOLD\").scale(1.5).set_color(BLACK).move_to(note_bg.get_center())\n",
    "    return VGroup(note_bg, stripes, watermark, denom)\n",
    "\n",
    "# --- Full circular Coin(part) function from original ---\n",
    "def Coin(part):\n",
    "    inner_gold = GOLD_A\n",
    "    middle_gold = GOLD\n",
    "    outer_gold = GOLD_E\n",
    "    r = 1.5\n",
    "    coin_body = Sector(\n",
    "        start_angle=0,\n",
    "        angle=PI/part,\n",
    "        radius=r,\n",
    "        color=BLACK,\n",
    "        fill_color=inner_gold,\n",
    "        fill_opacity=1,\n",
    "    )\n",
    "    coin_edge_inner = AnnularSector(\n",
    "        inner_radius=r*0.85,\n",
    "        outer_radius=r*0.90,\n",
    "        color=middle_gold,\n",
    "        fill_opacity=1,\n",
    "        angle=PI/part\n",
    "    )\n",
    "    coin_edge_middle = AnnularSector(\n",
    "        inner_radius=r*0.90,\n",
    "        outer_radius=r*0.93,\n",
    "        color=outer_gold,\n",
    "        fill_opacity=1,\n",
    "        angle=PI/part\n",
    "    )\n",
    "    coin_edge_outer = AnnularSector(\n",
    "        inner_radius=r*0.93,\n",
    "        outer_radius=r*0.97,\n",
    "        color=middle_gold,\n",
    "        fill_opacity=1,\n",
    "        angle=PI/part\n",
    "    )\n",
    "    s_sign = Text(\"£1.25\", color=WHITE).scale(0.5 * r).move_to(coin_body.get_center())\n",
    "    return VGroup(coin_body, coin_edge_inner, coin_edge_middle, coin_edge_outer, s_sign)"
   ]
  },
  {
   "cell_type": "code",
   "execution_count": 5,
   "id": "922c71dd-a55b-43ab-af05-0d89d78a1f27",
   "metadata": {},
   "outputs": [
    {
     "data": {
      "text/html": [
       "<pre style=\"white-space:pre;overflow-x:auto;line-height:normal;font-family:Menlo,'DejaVu Sans Mono',consolas,'Courier New',monospace\">Manim Community <span style=\"color: #008000; text-decoration-color: #008000\">v0.19.0</span>\n",
       "\n",
       "</pre>\n"
      ],
      "text/plain": [
       "Manim Community \u001b[32mv0.\u001b[0m\u001b[32m19.0\u001b[0m\n",
       "\n"
      ]
     },
     "metadata": {},
     "output_type": "display_data"
    },
    {
     "name": "stderr",
     "output_type": "stream",
     "text": [
      "                                                                                                                       "
     ]
    },
    {
     "data": {
      "text/html": [
       "<video src=\"media\\jupyter\\TVMScene@2025-07-02@09-46-02.mp4\" controls autoplay loop style=\"max-width: 60%;\"  >\n",
       "      Your browser does not support the <code>video</code> element.\n",
       "    </video>"
      ],
      "text/plain": [
       "<IPython.core.display.Video object>"
      ]
     },
     "metadata": {},
     "output_type": "display_data"
    }
   ],
   "source": [
    "%%manim -p -r 1920,1080 --fps 60 -v WARNING TVMScene\n",
    "\n",
    "config.frame_width = 60\n",
    "config.frame_height = 60\n",
    "config.background_color = WHITE\n",
    "\n",
    "class TVMScene(Scene):\n",
    "    def construct(self):\n",
    "        # Heading\n",
    "        heading = Text(\n",
    "            \"Time Value of Money – Example\", weight=\"BOLD\"\n",
    "        ).set_color(BLACK).scale(3).shift(UP * 12)\n",
    "        self.add(heading)\n",
    "\n",
    "        # Body Question\n",
    "        self.add(Body())\n",
    "\n",
    "        # Timeline Arrow\n",
    "        arrow = Arrow(\n",
    "            start=LEFT * 25, end=RIGHT * 25, buff=0\n",
    "        ).shift(DOWN * 10).set_color(BLACK).set_stroke(width=10)\n",
    "        self.play(Create(arrow))\n",
    "\n",
    "        # Dots & Year Labels\n",
    "        positions = np.linspace(LEFT * 10, RIGHT * 10, 2)\n",
    "        dots = []\n",
    "        for i, pos in enumerate(positions):\n",
    "            dot = Dot(pos, color=BLACK).shift(DOWN * 10)\n",
    "            label = Text(f\"Year {i}\", color=BLACK).scale(2).next_to(dot, DOWN)\n",
    "            self.play(Create(dot), Write(label))\n",
    "            dots.append(dot)\n",
    "\n",
    "        # Year 0: £5 Note\n",
    "        note1 = BankNote().scale(2).next_to(dots[0], UP)\n",
    "        self.play(Create(note1))\n",
    "\n",
    "        # Year 1: £5 Note + 25% Coin\n",
    "        note2 = BankNote().scale(2).next_to(dots[1], UP)\n",
    "        self.play(TransformFromCopy(note1, note2))\n",
    "        plus_sign = Text(\"+\", color=BLACK).scale(2).next_to(note2, buff=1)\n",
    "        self.play(Create(plus_sign))\n",
    "        coin = Coin(0.5).scale(1.2).next_to(plus_sign, buff=1)\n",
    "        self.play(Create(coin))\n",
    "\n",
    "        # Transform to Text Results\n",
    "        t1 = Text(\"£5\", color=BLACK).scale(2).next_to(dots[0], UP * 10)\n",
    "        t2 = Text(\"£5\", color=BLACK).scale(2).next_to(dots[1], UP * 10)\n",
    "        t3 = Text(\"£1.25\", color=BLACK).scale(2).move_to(coin.get_center())\n",
    "        t4 = Text(\"£6.25\", color=BLACK).scale(2).next_to(dots[1], UP * 10)\n",
    "\n",
    "        # Principal transforms\n",
    "        self.play(Transform(note1, t1))\n",
    "        self.play(Transform(note2, t2))\n",
    "        # Coin transforms into interest amount\n",
    "        self.play(Transform(coin, t3))\n",
    "        # Both principal note and interest text merge into total, removing the interest text\n",
    "        self.play(\n",
    "            Transform(note2, t4),\n",
    "            Transform(coin, t4),\n",
    "            FadeOut(plus_sign)\n",
    "        )\n",
    "\n"
   ]
  }
 ],
 "metadata": {
  "kernelspec": {
   "display_name": "Python 3 (ipykernel)",
   "language": "python",
   "name": "python3"
  },
  "language_info": {
   "codemirror_mode": {
    "name": "ipython",
    "version": 3
   },
   "file_extension": ".py",
   "mimetype": "text/x-python",
   "name": "python",
   "nbconvert_exporter": "python",
   "pygments_lexer": "ipython3",
   "version": "3.12.3"
  }
 },
 "nbformat": 4,
 "nbformat_minor": 5
}
